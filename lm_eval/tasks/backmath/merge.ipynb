{
 "cells": [
  {
   "cell_type": "code",
   "execution_count": 25,
   "metadata": {},
   "outputs": [],
   "source": [
    "import pandas as pd\n",
    "import os\n",
    "import json"
   ]
  },
  {
   "cell_type": "code",
   "execution_count": 26,
   "metadata": {},
   "outputs": [],
   "source": [
    "data = []\n",
    "\n",
    "for file in os.listdir(\"./jsonl_data\"):\n",
    "    with open(f\"./jsonl_data/{file}\", \"r\") as f:\n",
    "        for line in f.readlines():\n",
    "            data.append(json.loads(line))"
   ]
  },
  {
   "cell_type": "code",
   "execution_count": 27,
   "metadata": {},
   "outputs": [],
   "source": [
    "df = pd.DataFrame(data)"
   ]
  },
  {
   "cell_type": "code",
   "execution_count": 28,
   "metadata": {},
   "outputs": [
    {
     "data": {
      "text/html": [
       "<div>\n",
       "<style scoped>\n",
       "    .dataframe tbody tr th:only-of-type {\n",
       "        vertical-align: middle;\n",
       "    }\n",
       "\n",
       "    .dataframe tbody tr th {\n",
       "        vertical-align: top;\n",
       "    }\n",
       "\n",
       "    .dataframe thead th {\n",
       "        text-align: right;\n",
       "    }\n",
       "</style>\n",
       "<table border=\"1\" class=\"dataframe\">\n",
       "  <thead>\n",
       "    <tr style=\"text-align: right;\">\n",
       "      <th></th>\n",
       "      <th>reverse_problem</th>\n",
       "      <th>reverse_solution_process</th>\n",
       "      <th>reverse_solution</th>\n",
       "      <th>average_score</th>\n",
       "      <th>source_question</th>\n",
       "      <th>output</th>\n",
       "      <th>source_answer</th>\n",
       "    </tr>\n",
       "  </thead>\n",
       "  <tbody>\n",
       "    <tr>\n",
       "      <th>0</th>\n",
       "      <td>Find the matrix $\\\\\\\\mathbf{A}$ such that $\\\\\\...</td>\n",
       "      <td>The inverse of $\\\\\\\\begin{pmatrix} 4 &amp; 2 \\\\\\\\\\...</td>\n",
       "      <td>\\\\\\\\boxed{\\\\\\\\begin{pmatrix} 1 &amp; -2 \\\\\\\\\\\\\\\\ 1...</td>\n",
       "      <td>[[0.972, 0.028], [0.959, 0.041]]</td>\n",
       "      <td>\"Find $A^2$, where $A$ is the sum of the absol...</td>\n",
       "      <td>\"Let $f(x) = \\sqrt{19} + \\frac{91}{x}.$ Then ...</td>\n",
       "      <td>383</td>\n",
       "    </tr>\n",
       "    <tr>\n",
       "      <th>1</th>\n",
       "      <td>Find the equation in the form $x = \\\\\\\\sqrt{19...</td>\n",
       "      <td>The given equation, $x = f(f(f(f(f(x)))))$, re...</td>\n",
       "      <td>\\\\\\\\boxed{\\\\\\\\sqrt{19} + \\\\\\\\frac{91}{x}}</td>\n",
       "      <td>[[0.949, 0.051], [0.943, 0.057], [0.955, 0.045]]</td>\n",
       "      <td>\"If $a = \\log 9$ and $b = \\log 16,$ compute\\[4...</td>\n",
       "      <td>\"First, we have that\\[\\frac{a}{b} = \\frac{\\lo...</td>\n",
       "      <td>7</td>\n",
       "    </tr>\n",
       "    <tr>\n",
       "      <th>2</th>\n",
       "      <td>Given $4^{a/b} + 3^{b/a} = 7$, find $a$ and $b$.</td>\n",
       "      <td>We can work backwards from $4^{a/b} + 3^{b/a} ...</td>\n",
       "      <td>\\\\\\\\boxed{\\\\\\\\log 9}, \\\\\\\\boxed{\\\\\\\\log 16}</td>\n",
       "      <td>[[0.963, 0.037], [0.939, 0.061], [0.928, 0.072...</td>\n",
       "      <td>\"Simplify\\[\\frac{3 + 5i}{3 - 5i} + \\frac{3 - 5...</td>\n",
       "      <td>\"We have that\\begin{align*}\\frac{3 + 5i}{3 - ...</td>\n",
       "      <td>-\\frac{16</td>\n",
       "    </tr>\n",
       "    <tr>\n",
       "      <th>3</th>\n",
       "      <td>Given that $\\\\\\\\frac{3 + 5i}{3 - 5i} + \\\\\\\\fra...</td>\n",
       "      <td>We can reverse-engineer from the result $-\\\\\\\\...</td>\n",
       "      <td>\\\\\\\\boxed{\\\\\\\\frac{3 + 5i}{3 - 5i}}, \\\\\\\\boxed...</td>\n",
       "      <td>[[0.969, 0.031], [0.961, 0.039], [0.957, 0.043...</td>\n",
       "      <td>\"Find the remainder when $6x^4-14x^3-4x^2+2x-2...</td>\n",
       "      <td>\"Since $2x - 6 = 2(x - 3),$ by the Remainder ...</td>\n",
       "      <td>52</td>\n",
       "    </tr>\n",
       "    <tr>\n",
       "      <th>4</th>\n",
       "      <td>Given the remainder of $6 \\\\cdot 3^4 - 14 \\\\cd...</td>\n",
       "      <td>We start with the known remainder, $52$, and t...</td>\n",
       "      <td>\\\\\\\\boxed{6x^4 - 14x^3 - 4x^2 + 2x - 26}, \\\\\\\\...</td>\n",
       "      <td>[[0.968, 0.032], [0.952, 0.048], [0.931, 0.069...</td>\n",
       "      <td>\"Let $a,b,c$ be the roots of $x^3-9x^2+11x-1=0...</td>\n",
       "      <td>\"By Vieta's Formulas, we have  $a + b + c = 9...</td>\n",
       "      <td>-37</td>\n",
       "    </tr>\n",
       "    <tr>\n",
       "      <th>...</th>\n",
       "      <td>...</td>\n",
       "      <td>...</td>\n",
       "      <td>...</td>\n",
       "      <td>...</td>\n",
       "      <td>...</td>\n",
       "      <td>...</td>\n",
       "      <td>...</td>\n",
       "    </tr>\n",
       "    <tr>\n",
       "      <th>7468</th>\n",
       "      <td>Given $f(x) = \\\\\\\\min\\\\\\\\left(2x + 2, \\\\\\\\ \\\\\\...</td>\n",
       "      <td>The intersection points:\\\\\\\\ \\\\\\\\left(-\\\\\\\\fra...</td>\n",
       "      <td>$\\\\\\\\dfrac{17}{5}$</td>\n",
       "      <td>[[0.9102, 0.0898]]</td>\n",
       "      <td>\"Find the positive value of $x$ which satisfie...</td>\n",
       "      <td>\"By the change-of-base formula,\\[\\log_{\\sqrt{...</td>\n",
       "      <td>3</td>\n",
       "    </tr>\n",
       "    <tr>\n",
       "      <th>7469</th>\n",
       "      <td>Find the positive value of x given that $\\\\\\\\l...</td>\n",
       "      <td>By change-of-base $\\\\\\\\log_{ \\\\\\\\ $x-2$ \\\\\\\\ }...</td>\n",
       "      <td>$x=3$</td>\n",
       "      <td>[[0.7611, 0.2389], [0.7526, 0.2474], [0.7498, ...</td>\n",
       "      <td>\"The function $f(x)$ satisfies\\[f(x + y) = f(x...</td>\n",
       "      <td>\"Setting $x = y = 0,$ we get\\[f(0) = f(0)^2,\\...</td>\n",
       "      <td>0,1</td>\n",
       "    </tr>\n",
       "    <tr>\n",
       "      <th>7470</th>\n",
       "      <td>Find the ellipse traced by $ \\\\\\\\ z+\\\\\\\\frac{1...</td>\n",
       "      <td>Given $a+bi =\\\\sqrt{4}$  center at \\\\\\\\ \\\\\\\\fr...</td>\n",
       "      <td>$ellipse$</td>\n",
       "      <td>[[0.5993, 0.4007]]</td>\n",
       "      <td>\"The equation $x^3 - 9x^2 + 8x +2 = 0$ has thr...</td>\n",
       "      <td>\"From Vieta's relations, we have $p+q+r = 9$,...</td>\n",
       "      <td>25</td>\n",
       "    </tr>\n",
       "    <tr>\n",
       "      <th>7471</th>\n",
       "      <td>Find the solution set of x given $3/(x^2}+7)$</td>\n",
       "      <td>Given rewriting inequality reduce, factor num...</td>\n",
       "      <td>$(-2, 0)$</td>\n",
       "      <td>[[0.5352, 0.4648]]</td>\n",
       "      <td>\"Find the polynomial $p(x)$ such that\\[p(p(x))...</td>\n",
       "      <td>\"Let $n$ be the degree of $p(x).$  Then the d...</td>\n",
       "      <td>-x + 1</td>\n",
       "    </tr>\n",
       "    <tr>\n",
       "      <th>7472</th>\n",
       "      <td>Find the inverse matrix A such that a 2x2 iden...</td>\n",
       "      <td>None</td>\n",
       "      <td>$6$</td>\n",
       "      <td>[[0.5009, 0.4991]]</td>\n",
       "      <td>\"For each value of $x,$ $f(x)$ is defined to b...</td>\n",
       "      <td>\"We plot the lines $y = 2x + 2,$ $y = \\frac{1...</td>\n",
       "      <td>\\frac{17</td>\n",
       "    </tr>\n",
       "  </tbody>\n",
       "</table>\n",
       "<p>7473 rows × 7 columns</p>\n",
       "</div>"
      ],
      "text/plain": [
       "                                        reverse_problem  \\\n",
       "0     Find the matrix $\\\\\\\\mathbf{A}$ such that $\\\\\\...   \n",
       "1     Find the equation in the form $x = \\\\\\\\sqrt{19...   \n",
       "2      Given $4^{a/b} + 3^{b/a} = 7$, find $a$ and $b$.   \n",
       "3     Given that $\\\\\\\\frac{3 + 5i}{3 - 5i} + \\\\\\\\fra...   \n",
       "4     Given the remainder of $6 \\\\cdot 3^4 - 14 \\\\cd...   \n",
       "...                                                 ...   \n",
       "7468  Given $f(x) = \\\\\\\\min\\\\\\\\left(2x + 2, \\\\\\\\ \\\\\\...   \n",
       "7469  Find the positive value of x given that $\\\\\\\\l...   \n",
       "7470  Find the ellipse traced by $ \\\\\\\\ z+\\\\\\\\frac{1...   \n",
       "7471      Find the solution set of x given $3/(x^2}+7)$   \n",
       "7472  Find the inverse matrix A such that a 2x2 iden...   \n",
       "\n",
       "                               reverse_solution_process  \\\n",
       "0     The inverse of $\\\\\\\\begin{pmatrix} 4 & 2 \\\\\\\\\\...   \n",
       "1     The given equation, $x = f(f(f(f(f(x)))))$, re...   \n",
       "2     We can work backwards from $4^{a/b} + 3^{b/a} ...   \n",
       "3     We can reverse-engineer from the result $-\\\\\\\\...   \n",
       "4     We start with the known remainder, $52$, and t...   \n",
       "...                                                 ...   \n",
       "7468  The intersection points:\\\\\\\\ \\\\\\\\left(-\\\\\\\\fra...   \n",
       "7469  By change-of-base $\\\\\\\\log_{ \\\\\\\\ $x-2$ \\\\\\\\ }...   \n",
       "7470  Given $a+bi =\\\\sqrt{4}$  center at \\\\\\\\ \\\\\\\\fr...   \n",
       "7471   Given rewriting inequality reduce, factor num...   \n",
       "7472                                               None   \n",
       "\n",
       "                                       reverse_solution  \\\n",
       "0     \\\\\\\\boxed{\\\\\\\\begin{pmatrix} 1 & -2 \\\\\\\\\\\\\\\\ 1...   \n",
       "1             \\\\\\\\boxed{\\\\\\\\sqrt{19} + \\\\\\\\frac{91}{x}}   \n",
       "2           \\\\\\\\boxed{\\\\\\\\log 9}, \\\\\\\\boxed{\\\\\\\\log 16}   \n",
       "3     \\\\\\\\boxed{\\\\\\\\frac{3 + 5i}{3 - 5i}}, \\\\\\\\boxed...   \n",
       "4     \\\\\\\\boxed{6x^4 - 14x^3 - 4x^2 + 2x - 26}, \\\\\\\\...   \n",
       "...                                                 ...   \n",
       "7468                                 $\\\\\\\\dfrac{17}{5}$   \n",
       "7469                                              $x=3$   \n",
       "7470                                          $ellipse$   \n",
       "7471                                          $(-2, 0)$   \n",
       "7472                                                $6$   \n",
       "\n",
       "                                          average_score  \\\n",
       "0                      [[0.972, 0.028], [0.959, 0.041]]   \n",
       "1      [[0.949, 0.051], [0.943, 0.057], [0.955, 0.045]]   \n",
       "2     [[0.963, 0.037], [0.939, 0.061], [0.928, 0.072...   \n",
       "3     [[0.969, 0.031], [0.961, 0.039], [0.957, 0.043...   \n",
       "4     [[0.968, 0.032], [0.952, 0.048], [0.931, 0.069...   \n",
       "...                                                 ...   \n",
       "7468                                 [[0.9102, 0.0898]]   \n",
       "7469  [[0.7611, 0.2389], [0.7526, 0.2474], [0.7498, ...   \n",
       "7470                                 [[0.5993, 0.4007]]   \n",
       "7471                                 [[0.5352, 0.4648]]   \n",
       "7472                                 [[0.5009, 0.4991]]   \n",
       "\n",
       "                                        source_question  \\\n",
       "0     \"Find $A^2$, where $A$ is the sum of the absol...   \n",
       "1     \"If $a = \\log 9$ and $b = \\log 16,$ compute\\[4...   \n",
       "2     \"Simplify\\[\\frac{3 + 5i}{3 - 5i} + \\frac{3 - 5...   \n",
       "3     \"Find the remainder when $6x^4-14x^3-4x^2+2x-2...   \n",
       "4     \"Let $a,b,c$ be the roots of $x^3-9x^2+11x-1=0...   \n",
       "...                                                 ...   \n",
       "7468  \"Find the positive value of $x$ which satisfie...   \n",
       "7469  \"The function $f(x)$ satisfies\\[f(x + y) = f(x...   \n",
       "7470  \"The equation $x^3 - 9x^2 + 8x +2 = 0$ has thr...   \n",
       "7471  \"Find the polynomial $p(x)$ such that\\[p(p(x))...   \n",
       "7472  \"For each value of $x,$ $f(x)$ is defined to b...   \n",
       "\n",
       "                                                 output source_answer  \n",
       "0      \"Let $f(x) = \\sqrt{19} + \\frac{91}{x}.$ Then ...           383  \n",
       "1      \"First, we have that\\[\\frac{a}{b} = \\frac{\\lo...             7  \n",
       "2      \"We have that\\begin{align*}\\frac{3 + 5i}{3 - ...     -\\frac{16  \n",
       "3      \"Since $2x - 6 = 2(x - 3),$ by the Remainder ...            52  \n",
       "4      \"By Vieta's Formulas, we have  $a + b + c = 9...           -37  \n",
       "...                                                 ...           ...  \n",
       "7468   \"By the change-of-base formula,\\[\\log_{\\sqrt{...             3  \n",
       "7469   \"Setting $x = y = 0,$ we get\\[f(0) = f(0)^2,\\...           0,1  \n",
       "7470   \"From Vieta's relations, we have $p+q+r = 9$,...            25  \n",
       "7471   \"Let $n$ be the degree of $p(x).$  Then the d...        -x + 1  \n",
       "7472   \"We plot the lines $y = 2x + 2,$ $y = \\frac{1...      \\frac{17  \n",
       "\n",
       "[7473 rows x 7 columns]"
      ]
     },
     "execution_count": 28,
     "metadata": {},
     "output_type": "execute_result"
    }
   ],
   "source": [
    "df"
   ]
  },
  {
   "cell_type": "code",
   "execution_count": 29,
   "metadata": {},
   "outputs": [],
   "source": [
    "# df['reverse_solution'].isnull().sum()"
   ]
  },
  {
   "cell_type": "code",
   "execution_count": 30,
   "metadata": {},
   "outputs": [],
   "source": [
    "# df[df['reverse_solution'] == \"None\"]"
   ]
  },
  {
   "cell_type": "code",
   "execution_count": 31,
   "metadata": {},
   "outputs": [],
   "source": [
    "# type(df.head(10).loc[7, 'reverse_solution'])"
   ]
  },
  {
   "cell_type": "code",
   "execution_count": 32,
   "metadata": {},
   "outputs": [],
   "source": [
    "df = df.loc[df['reverse_solution'] != 'None']"
   ]
  },
  {
   "cell_type": "code",
   "execution_count": 33,
   "metadata": {},
   "outputs": [
    {
     "data": {
      "text/plain": [
       "7147"
      ]
     },
     "execution_count": 33,
     "metadata": {},
     "output_type": "execute_result"
    }
   ],
   "source": [
    "len(df)"
   ]
  },
  {
   "cell_type": "code",
   "execution_count": 34,
   "metadata": {},
   "outputs": [],
   "source": [
    "df = df.drop(columns=['average_score'], axis=1)"
   ]
  },
  {
   "cell_type": "code",
   "execution_count": 35,
   "metadata": {},
   "outputs": [],
   "source": [
    "df['reverse_solution'] = df['reverse_solution'].str.replace(r\"\\\\\\\\\\\\\\\\\", r\"\\\\\", regex=True).replace(r\"\\\\\\\\end\", r\"\\\\end\", regex=True)"
   ]
  },
  {
   "cell_type": "code",
   "execution_count": 36,
   "metadata": {},
   "outputs": [
    {
     "data": {
      "text/html": [
       "<div>\n",
       "<style scoped>\n",
       "    .dataframe tbody tr th:only-of-type {\n",
       "        vertical-align: middle;\n",
       "    }\n",
       "\n",
       "    .dataframe tbody tr th {\n",
       "        vertical-align: top;\n",
       "    }\n",
       "\n",
       "    .dataframe thead th {\n",
       "        text-align: right;\n",
       "    }\n",
       "</style>\n",
       "<table border=\"1\" class=\"dataframe\">\n",
       "  <thead>\n",
       "    <tr style=\"text-align: right;\">\n",
       "      <th></th>\n",
       "      <th>reverse_problem</th>\n",
       "      <th>reverse_solution_process</th>\n",
       "      <th>reverse_solution</th>\n",
       "      <th>source_question</th>\n",
       "      <th>output</th>\n",
       "      <th>source_answer</th>\n",
       "    </tr>\n",
       "  </thead>\n",
       "  <tbody>\n",
       "    <tr>\n",
       "      <th>0</th>\n",
       "      <td>Find the matrix $\\\\\\\\mathbf{A}$ such that $\\\\\\...</td>\n",
       "      <td>The inverse of $\\\\\\\\begin{pmatrix} 4 &amp; 2 \\\\\\\\\\...</td>\n",
       "      <td>\\boxed{\\begin{pmatrix} 1 &amp; -2 \\\\ 1 &amp; 4 \\end{pm...</td>\n",
       "      <td>\"Find $A^2$, where $A$ is the sum of the absol...</td>\n",
       "      <td>\"Let $f(x) = \\sqrt{19} + \\frac{91}{x}.$ Then ...</td>\n",
       "      <td>383</td>\n",
       "    </tr>\n",
       "    <tr>\n",
       "      <th>1</th>\n",
       "      <td>Find the equation in the form $x = \\\\\\\\sqrt{19...</td>\n",
       "      <td>The given equation, $x = f(f(f(f(f(x)))))$, re...</td>\n",
       "      <td>\\boxed{\\sqrt{19} + \\frac{91}{x}}</td>\n",
       "      <td>\"If $a = \\log 9$ and $b = \\log 16,$ compute\\[4...</td>\n",
       "      <td>\"First, we have that\\[\\frac{a}{b} = \\frac{\\lo...</td>\n",
       "      <td>7</td>\n",
       "    </tr>\n",
       "    <tr>\n",
       "      <th>2</th>\n",
       "      <td>Given $4^{a/b} + 3^{b/a} = 7$, find $a$ and $b$.</td>\n",
       "      <td>We can work backwards from $4^{a/b} + 3^{b/a} ...</td>\n",
       "      <td>\\boxed{\\log 9}, \\boxed{\\log 16}</td>\n",
       "      <td>\"Simplify\\[\\frac{3 + 5i}{3 - 5i} + \\frac{3 - 5...</td>\n",
       "      <td>\"We have that\\begin{align*}\\frac{3 + 5i}{3 - ...</td>\n",
       "      <td>-\\frac{16</td>\n",
       "    </tr>\n",
       "    <tr>\n",
       "      <th>3</th>\n",
       "      <td>Given that $\\\\\\\\frac{3 + 5i}{3 - 5i} + \\\\\\\\fra...</td>\n",
       "      <td>We can reverse-engineer from the result $-\\\\\\\\...</td>\n",
       "      <td>\\boxed{\\frac{3 + 5i}{3 - 5i}}, \\boxed{\\frac{3 ...</td>\n",
       "      <td>\"Find the remainder when $6x^4-14x^3-4x^2+2x-2...</td>\n",
       "      <td>\"Since $2x - 6 = 2(x - 3),$ by the Remainder ...</td>\n",
       "      <td>52</td>\n",
       "    </tr>\n",
       "    <tr>\n",
       "      <th>4</th>\n",
       "      <td>Given the remainder of $6 \\\\cdot 3^4 - 14 \\\\cd...</td>\n",
       "      <td>We start with the known remainder, $52$, and t...</td>\n",
       "      <td>\\boxed{6x^4 - 14x^3 - 4x^2 + 2x - 26}, \\boxed{...</td>\n",
       "      <td>\"Let $a,b,c$ be the roots of $x^3-9x^2+11x-1=0...</td>\n",
       "      <td>\"By Vieta's Formulas, we have  $a + b + c = 9...</td>\n",
       "      <td>-37</td>\n",
       "    </tr>\n",
       "    <tr>\n",
       "      <th>...</th>\n",
       "      <td>...</td>\n",
       "      <td>...</td>\n",
       "      <td>...</td>\n",
       "      <td>...</td>\n",
       "      <td>...</td>\n",
       "      <td>...</td>\n",
       "    </tr>\n",
       "    <tr>\n",
       "      <th>7468</th>\n",
       "      <td>Given $f(x) = \\\\\\\\min\\\\\\\\left(2x + 2, \\\\\\\\ \\\\\\...</td>\n",
       "      <td>The intersection points:\\\\\\\\ \\\\\\\\left(-\\\\\\\\fra...</td>\n",
       "      <td>$\\dfrac{17}{5}$</td>\n",
       "      <td>\"Find the positive value of $x$ which satisfie...</td>\n",
       "      <td>\"By the change-of-base formula,\\[\\log_{\\sqrt{...</td>\n",
       "      <td>3</td>\n",
       "    </tr>\n",
       "    <tr>\n",
       "      <th>7469</th>\n",
       "      <td>Find the positive value of x given that $\\\\\\\\l...</td>\n",
       "      <td>By change-of-base $\\\\\\\\log_{ \\\\\\\\ $x-2$ \\\\\\\\ }...</td>\n",
       "      <td>$x=3$</td>\n",
       "      <td>\"The function $f(x)$ satisfies\\[f(x + y) = f(x...</td>\n",
       "      <td>\"Setting $x = y = 0,$ we get\\[f(0) = f(0)^2,\\...</td>\n",
       "      <td>0,1</td>\n",
       "    </tr>\n",
       "    <tr>\n",
       "      <th>7470</th>\n",
       "      <td>Find the ellipse traced by $ \\\\\\\\ z+\\\\\\\\frac{1...</td>\n",
       "      <td>Given $a+bi =\\\\sqrt{4}$  center at \\\\\\\\ \\\\\\\\fr...</td>\n",
       "      <td>$ellipse$</td>\n",
       "      <td>\"The equation $x^3 - 9x^2 + 8x +2 = 0$ has thr...</td>\n",
       "      <td>\"From Vieta's relations, we have $p+q+r = 9$,...</td>\n",
       "      <td>25</td>\n",
       "    </tr>\n",
       "    <tr>\n",
       "      <th>7471</th>\n",
       "      <td>Find the solution set of x given $3/(x^2}+7)$</td>\n",
       "      <td>Given rewriting inequality reduce, factor num...</td>\n",
       "      <td>$(-2, 0)$</td>\n",
       "      <td>\"Find the polynomial $p(x)$ such that\\[p(p(x))...</td>\n",
       "      <td>\"Let $n$ be the degree of $p(x).$  Then the d...</td>\n",
       "      <td>-x + 1</td>\n",
       "    </tr>\n",
       "    <tr>\n",
       "      <th>7472</th>\n",
       "      <td>Find the inverse matrix A such that a 2x2 iden...</td>\n",
       "      <td>None</td>\n",
       "      <td>$6$</td>\n",
       "      <td>\"For each value of $x,$ $f(x)$ is defined to b...</td>\n",
       "      <td>\"We plot the lines $y = 2x + 2,$ $y = \\frac{1...</td>\n",
       "      <td>\\frac{17</td>\n",
       "    </tr>\n",
       "  </tbody>\n",
       "</table>\n",
       "<p>7147 rows × 6 columns</p>\n",
       "</div>"
      ],
      "text/plain": [
       "                                        reverse_problem  \\\n",
       "0     Find the matrix $\\\\\\\\mathbf{A}$ such that $\\\\\\...   \n",
       "1     Find the equation in the form $x = \\\\\\\\sqrt{19...   \n",
       "2      Given $4^{a/b} + 3^{b/a} = 7$, find $a$ and $b$.   \n",
       "3     Given that $\\\\\\\\frac{3 + 5i}{3 - 5i} + \\\\\\\\fra...   \n",
       "4     Given the remainder of $6 \\\\cdot 3^4 - 14 \\\\cd...   \n",
       "...                                                 ...   \n",
       "7468  Given $f(x) = \\\\\\\\min\\\\\\\\left(2x + 2, \\\\\\\\ \\\\\\...   \n",
       "7469  Find the positive value of x given that $\\\\\\\\l...   \n",
       "7470  Find the ellipse traced by $ \\\\\\\\ z+\\\\\\\\frac{1...   \n",
       "7471      Find the solution set of x given $3/(x^2}+7)$   \n",
       "7472  Find the inverse matrix A such that a 2x2 iden...   \n",
       "\n",
       "                               reverse_solution_process  \\\n",
       "0     The inverse of $\\\\\\\\begin{pmatrix} 4 & 2 \\\\\\\\\\...   \n",
       "1     The given equation, $x = f(f(f(f(f(x)))))$, re...   \n",
       "2     We can work backwards from $4^{a/b} + 3^{b/a} ...   \n",
       "3     We can reverse-engineer from the result $-\\\\\\\\...   \n",
       "4     We start with the known remainder, $52$, and t...   \n",
       "...                                                 ...   \n",
       "7468  The intersection points:\\\\\\\\ \\\\\\\\left(-\\\\\\\\fra...   \n",
       "7469  By change-of-base $\\\\\\\\log_{ \\\\\\\\ $x-2$ \\\\\\\\ }...   \n",
       "7470  Given $a+bi =\\\\sqrt{4}$  center at \\\\\\\\ \\\\\\\\fr...   \n",
       "7471   Given rewriting inequality reduce, factor num...   \n",
       "7472                                               None   \n",
       "\n",
       "                                       reverse_solution  \\\n",
       "0     \\boxed{\\begin{pmatrix} 1 & -2 \\\\ 1 & 4 \\end{pm...   \n",
       "1                      \\boxed{\\sqrt{19} + \\frac{91}{x}}   \n",
       "2                       \\boxed{\\log 9}, \\boxed{\\log 16}   \n",
       "3     \\boxed{\\frac{3 + 5i}{3 - 5i}}, \\boxed{\\frac{3 ...   \n",
       "4     \\boxed{6x^4 - 14x^3 - 4x^2 + 2x - 26}, \\boxed{...   \n",
       "...                                                 ...   \n",
       "7468                                    $\\dfrac{17}{5}$   \n",
       "7469                                              $x=3$   \n",
       "7470                                          $ellipse$   \n",
       "7471                                          $(-2, 0)$   \n",
       "7472                                                $6$   \n",
       "\n",
       "                                        source_question  \\\n",
       "0     \"Find $A^2$, where $A$ is the sum of the absol...   \n",
       "1     \"If $a = \\log 9$ and $b = \\log 16,$ compute\\[4...   \n",
       "2     \"Simplify\\[\\frac{3 + 5i}{3 - 5i} + \\frac{3 - 5...   \n",
       "3     \"Find the remainder when $6x^4-14x^3-4x^2+2x-2...   \n",
       "4     \"Let $a,b,c$ be the roots of $x^3-9x^2+11x-1=0...   \n",
       "...                                                 ...   \n",
       "7468  \"Find the positive value of $x$ which satisfie...   \n",
       "7469  \"The function $f(x)$ satisfies\\[f(x + y) = f(x...   \n",
       "7470  \"The equation $x^3 - 9x^2 + 8x +2 = 0$ has thr...   \n",
       "7471  \"Find the polynomial $p(x)$ such that\\[p(p(x))...   \n",
       "7472  \"For each value of $x,$ $f(x)$ is defined to b...   \n",
       "\n",
       "                                                 output source_answer  \n",
       "0      \"Let $f(x) = \\sqrt{19} + \\frac{91}{x}.$ Then ...           383  \n",
       "1      \"First, we have that\\[\\frac{a}{b} = \\frac{\\lo...             7  \n",
       "2      \"We have that\\begin{align*}\\frac{3 + 5i}{3 - ...     -\\frac{16  \n",
       "3      \"Since $2x - 6 = 2(x - 3),$ by the Remainder ...            52  \n",
       "4      \"By Vieta's Formulas, we have  $a + b + c = 9...           -37  \n",
       "...                                                 ...           ...  \n",
       "7468   \"By the change-of-base formula,\\[\\log_{\\sqrt{...             3  \n",
       "7469   \"Setting $x = y = 0,$ we get\\[f(0) = f(0)^2,\\...           0,1  \n",
       "7470   \"From Vieta's relations, we have $p+q+r = 9$,...            25  \n",
       "7471   \"Let $n$ be the degree of $p(x).$  Then the d...        -x + 1  \n",
       "7472   \"We plot the lines $y = 2x + 2,$ $y = \\frac{1...      \\frac{17  \n",
       "\n",
       "[7147 rows x 6 columns]"
      ]
     },
     "execution_count": 36,
     "metadata": {},
     "output_type": "execute_result"
    }
   ],
   "source": [
    "df"
   ]
  },
  {
   "cell_type": "code",
   "execution_count": 37,
   "metadata": {},
   "outputs": [],
   "source": [
    "df.to_parquet(\"train.parquet\")"
   ]
  },
  {
   "cell_type": "code",
   "execution_count": 38,
   "metadata": {},
   "outputs": [],
   "source": [
    "df.to_feather(\"train.arrow\")"
   ]
  },
  {
   "cell_type": "code",
   "execution_count": 47,
   "metadata": {},
   "outputs": [],
   "source": [
    "# import pyarrow as pa\n",
    "# import pyarrow.ipc\n",
    "\n",
    "# # Open the Arrow file\n",
    "# with pa.ipc.open_file(\"train.arrow\") as arrow_file:\n",
    "#     # Convert to a Pandas DataFrame\n",
    "#     df = arrow_file.read_all().to_pandas()\n"
   ]
  },
  {
   "cell_type": "code",
   "execution_count": 48,
   "metadata": {},
   "outputs": [],
   "source": [
    "# df['reverse_solution'][0]"
   ]
  },
  {
   "cell_type": "code",
   "execution_count": 15,
   "metadata": {},
   "outputs": [],
   "source": [
    "from math_verify import parse, verify, LatexExtractionConfig"
   ]
  },
  {
   "cell_type": "code",
   "execution_count": 57,
   "metadata": {},
   "outputs": [],
   "source": [
    "a = \"\\\\boxed{\\\\begin{pmatrix} 1 & -2 \\\\\\\\ 1 & 4 \\\\end{pmatrix}}\"\n",
    "b = \"\\\\boxed{\\\\begin{pmatrix} 1 & -2 \\\\\\\\ 1 & 4 \\\\end{pmatrix}}\""
   ]
  },
  {
   "cell_type": "code",
   "execution_count": 58,
   "metadata": {},
   "outputs": [
    {
     "data": {
      "text/plain": [
       "[Matrix([\n",
       " [1, -2],\n",
       " [1,  4]]),\n",
       " '\\\\begin{pmatrix} 1 & -2 \\\\\\\\ 1 & 4 \\\\end{pmatrix}']"
      ]
     },
     "execution_count": 58,
     "metadata": {},
     "output_type": "execute_result"
    }
   ],
   "source": [
    "import re\n",
    "\n",
    "parse(re.sub(r\"\\\\\\\\\\\\\\\\\", r\"\\\\\", a).replace(\"\\\\\\\\end\", \"\\\\end\"))"
   ]
  },
  {
   "cell_type": "code",
   "execution_count": 50,
   "metadata": {},
   "outputs": [
    {
     "name": "stdout",
     "output_type": "stream",
     "text": [
      "\\boxed{\\begin{pmatrix} 1 & -2 \\\\ 1 & 4 \\end{pmatrix}}\n"
     ]
    }
   ],
   "source": [
    "print(a)"
   ]
  },
  {
   "cell_type": "code",
   "execution_count": 51,
   "metadata": {},
   "outputs": [],
   "source": [
    "# import re\n",
    "\n",
    "# out = re.sub(r\"\\\\\\\\\\\\\\\\\", r\"\\\\\", a)\n",
    "# print(out)"
   ]
  },
  {
   "cell_type": "code",
   "execution_count": 52,
   "metadata": {},
   "outputs": [],
   "source": [
    "# parse(out.replace(\"\\\\\\\\end\", \"\\\\end\"))"
   ]
  },
  {
   "cell_type": "code",
   "execution_count": 53,
   "metadata": {},
   "outputs": [
    {
     "data": {
      "text/plain": [
       "True"
      ]
     },
     "execution_count": 53,
     "metadata": {},
     "output_type": "execute_result"
    }
   ],
   "source": [
    "verify(parse(a), parse(b))"
   ]
  },
  {
   "cell_type": "code",
   "execution_count": 59,
   "metadata": {},
   "outputs": [],
   "source": [
    "# parse(a, extraction_config=[LatexExtractionConfig()])"
   ]
  },
  {
   "cell_type": "code",
   "execution_count": 5,
   "metadata": {},
   "outputs": [
    {
     "data": {
      "text/plain": [
       "[Matrix([\n",
       " [1, -2],\n",
       " [1,  4]]),\n",
       " '\\\\begin{pmatrix} 1 & -2 \\\\\\\\ 1 & 4 \\\\end{pmatrix}']"
      ]
     },
     "execution_count": 5,
     "metadata": {},
     "output_type": "execute_result"
    }
   ],
   "source": [
    "parse(b)"
   ]
  },
  {
   "cell_type": "code",
   "execution_count": 69,
   "metadata": {},
   "outputs": [],
   "source": [
    "res = []\n",
    "\n",
    "path = \"/scratch/ss13750/llm/eval/lm-evaluation-harness/results/Open-Reasoner-Zero__Open-Reasoner-Zero-7B/samples_backmath_reasoner_2025-03-05T14-57-01.090195.jsonl\"\n",
    "\n",
    "# for file in os.listdir(\"jsonl_data\"):\n",
    "with open(path, \"r\") as f:\n",
    "    for line in f.readlines():\n",
    "        newl = (json.loads(line))\n",
    "        res.append({\n",
    "            'og_sol': newl['doc']['reverse_solution_process'],\n",
    "            'og': newl['target'],\n",
    "            'res': newl['filtered_resps'][0][0]\n",
    "        })"
   ]
  },
  {
   "cell_type": "code",
   "execution_count": 70,
   "metadata": {},
   "outputs": [],
   "source": [
    "res = pd.DataFrame(res)"
   ]
  },
  {
   "cell_type": "code",
   "execution_count": 71,
   "metadata": {},
   "outputs": [
    {
     "name": "stdout",
     "output_type": "stream",
     "text": [
      "\\boxed{\\begin{pmatrix} 1 & -2 \\\\ 1 & 4 \\end{pmatrix}} \\boxed{\\begin{pmatrix} 1 & -2 \\\\ 1 & 4 \\end{pmatrix}}\n",
      "True\n",
      "\n",
      "\\boxed{\\sqrt{19} + \\frac{91}{x}} \\boxed{x = \\sqrt{19} + \\frac{91}{x}}\n",
      "True\n",
      "\n",
      "\\boxed{\\log 9}, \\boxed{\\log 16} \\boxed{a = 1, b = 1}\n",
      "False\n",
      "\n",
      "\\boxed{\\frac{3 + 5i}{3 - 5i}}, \\boxed{\\frac{3 - 5i}{3 + 5i}} \\boxed{3 + 5i \\text{ and } 3 - 5i}\n",
      "False\n",
      "\n",
      "\\boxed{6x^4 - 14x^3 - 4x^2 + 2x - 26}, \\boxed{2x - 6} \\boxed{6x^4 - 14x^3 - 4x^2 + 2x - 26 \\text{ and } x - 3}\n",
      "False\n",
      "\n",
      "\\boxed{x^3-9x^2+11x-1},\\boxed{s^4 -18s^2-8s=-37} \\boxed{s^3 + as^2 + bs + c}\n",
      "False\n",
      "\n",
      "\\boxed{yields=translatingspan proven constraintsmaxvalue=\\sqrt3} \\boxed{2}\n",
      "False\n",
      "\n",
      "\\boxed accurately confirming crossrootssuperpolynomial solutions solves-transformcross confirming proving accurate solutions layout transformations:approved \\boxed{3}\n",
      "False\n",
      "\n",
      "\\boxed proving confirming accurate polynomials solved correctproven ensuring \\boxed{3x^3 + 2x^2 - 5x + 7}\n",
      "False\n",
      "\n",
      "$\\boxed{\\begin{pmatrix} -1 \\ 1 \\end{pmatrix}}$ \\boxed{\\begin{pmatrix} -\\frac{9}{14} \\\\ \\frac{29}{14} \\end{pmatrix}}\n",
      "False\n",
      "\n"
     ]
    }
   ],
   "source": [
    "for index, row in res.iterrows():\n",
    "    out = row['og']\n",
    "    out = re.sub(r\"\\\\\\\\\\\\\\\\\", r\"\\\\\", out).replace(\"\\\\\\\\end\", \"\\\\end\")\n",
    "    print(row['og'], row['res'])\n",
    "\n",
    "    # print(parse(row['og_sol']), parse(row['res']), parse(row['og']))\n",
    "    print(verify(parse(out), parse(row['res'])))\n",
    "    print(\"\")"
   ]
  },
  {
   "cell_type": "code",
   "execution_count": null,
   "metadata": {},
   "outputs": [],
   "source": []
  }
 ],
 "metadata": {
  "kernelspec": {
   "display_name": "lm-eval",
   "language": "python",
   "name": "python3"
  },
  "language_info": {
   "codemirror_mode": {
    "name": "ipython",
    "version": 3
   },
   "file_extension": ".py",
   "mimetype": "text/x-python",
   "name": "python",
   "nbconvert_exporter": "python",
   "pygments_lexer": "ipython3",
   "version": "3.10.16"
  }
 },
 "nbformat": 4,
 "nbformat_minor": 2
}
